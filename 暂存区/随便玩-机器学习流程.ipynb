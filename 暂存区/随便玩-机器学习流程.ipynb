{
 "cells": [
  {
   "cell_type": "code",
   "execution_count": 20,
   "id": "05648075-22c8-4b9a-aabe-98ad3ac938f8",
   "metadata": {},
   "outputs": [
    {
     "data": {
      "text/plain": [
       "0.5050348716517143"
      ]
     },
     "execution_count": 20,
     "metadata": {},
     "output_type": "execute_result"
    }
   ],
   "source": [
    "from sklearn.datasets import load_boston\n",
    "from sklearn.model_selection import train_test_split\n",
    "from sklearn.preprocessing import StandardScaler\n",
    "from sklearn.linear_model import LinearRegression, SGDRegressor, Ridge\n",
    "from sklearn.metrics import mean_squared_error,r2_score\n",
    "import joblib\n",
    "\n",
    "# 1. 获取数据\n",
    "data = pd.read_csv('./data/House_Training.csv')\n",
    "\n",
    "# 2. 划分数据集\n",
    "x_train, x_test, y_train, y_test = train_test_split(\n",
    "    data[data.columns[0:6]], data['Y house price of unit area'], \n",
    "    test_size=0.2, random_state=0)\n",
    "\n",
    "# 3. 数据预处理：归一化                                                                                                   \n",
    "transfer = StandardScaler()\n",
    "x_train = transfer.fit_transform(x_train)\n",
    "x_test = transfer.transform(x_test)\n",
    "\n",
    "# 4.选择算法\n",
    "estimator = LinearRegression()\n",
    "\n",
    "# 5. 训练模型\n",
    "estimator.fit(x_train, y_train)\n",
    "\n",
    "# 6. 模型评估\n",
    "mean_squared_error(y_test, estimator.predict(x_test))\n",
    "\n",
    "# 7. 调整模型\n",
    "estimator = SGDRegressor(penalty='l1', max_iter=1000, \n",
    "                         learning_rate='constant', eta0=0.001)\n",
    "estimator.fit(x_train, y_train)\n",
    "mean_squared_error(y_test, estimator.predict(x_test))\n",
    "\n",
    "estimator = SGDRegressor(penalty='l2', max_iter=1000, \n",
    "                         learning_rate='constant', eta0=0.001)\n",
    "estimator.fit(x_train, y_train)\n",
    "mean_squared_error(y_test, estimator.predict(x_test))\n",
    "\n",
    "# 8. 模型保存\n",
    "joblib.dump(estimator, \"./dump/my_ridge.pkl\")\n",
    "\n",
    "# 9. 模型导入\n",
    "estimator = joblib.load(\"./dump/my_ridge.pkl\")\n",
    "r2_score(y_test, estimator.predict(x_test))"
   ]
  },
  {
   "cell_type": "code",
   "execution_count": null,
   "id": "eaa289e2-cfc3-48b5-8854-470c36f70e7c",
   "metadata": {},
   "outputs": [],
   "source": []
  }
 ],
 "metadata": {
  "kernelspec": {
   "display_name": "torch1.12",
   "language": "python",
   "name": "torch1.12"
  },
  "language_info": {
   "codemirror_mode": {
    "name": "ipython",
    "version": 3
   },
   "file_extension": ".py",
   "mimetype": "text/x-python",
   "name": "python",
   "nbconvert_exporter": "python",
   "pygments_lexer": "ipython3",
   "version": "3.10.6"
  }
 },
 "nbformat": 4,
 "nbformat_minor": 5
}

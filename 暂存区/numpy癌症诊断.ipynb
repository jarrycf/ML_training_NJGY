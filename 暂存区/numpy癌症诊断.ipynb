{
 "cells": [
  {
   "cell_type": "code",
   "execution_count": 13,
   "id": "6609ff47-8d65-484e-a0c7-615db16e675f",
   "metadata": {},
   "outputs": [],
   "source": [
    "import numpy as np\n",
    "import pandas as pd\n",
    "import seaborn as sns\n",
    "from sklearn.model_selection import train_test_split\n"
   ]
  },
  {
   "cell_type": "code",
   "execution_count": 31,
   "id": "9adc4be4-95ae-4ce3-ad51-a169f9f21a18",
   "metadata": {},
   "outputs": [
    {
     "data": {
      "text/html": [
       "<div>\n",
       "<style scoped>\n",
       "    .dataframe tbody tr th:only-of-type {\n",
       "        vertical-align: middle;\n",
       "    }\n",
       "\n",
       "    .dataframe tbody tr th {\n",
       "        vertical-align: top;\n",
       "    }\n",
       "\n",
       "    .dataframe thead th {\n",
       "        text-align: right;\n",
       "    }\n",
       "</style>\n",
       "<table border=\"1\" class=\"dataframe\">\n",
       "  <thead>\n",
       "    <tr style=\"text-align: right;\">\n",
       "      <th></th>\n",
       "      <th>Class</th>\n",
       "      <th>age</th>\n",
       "      <th>menopause</th>\n",
       "      <th>tumor-size</th>\n",
       "      <th>inv-nodes</th>\n",
       "      <th>node-caps</th>\n",
       "      <th>deg-malig</th>\n",
       "      <th>breast</th>\n",
       "      <th>breast-quad</th>\n",
       "      <th>irradiat</th>\n",
       "    </tr>\n",
       "  </thead>\n",
       "  <tbody>\n",
       "    <tr>\n",
       "      <th>0</th>\n",
       "      <td>no-recurrence-events</td>\n",
       "      <td>40-49</td>\n",
       "      <td>premeno</td>\n",
       "      <td>0-4</td>\n",
       "      <td>0-2</td>\n",
       "      <td>no</td>\n",
       "      <td>3</td>\n",
       "      <td>left</td>\n",
       "      <td>central</td>\n",
       "      <td>no</td>\n",
       "    </tr>\n",
       "    <tr>\n",
       "      <th>1</th>\n",
       "      <td>no-recurrence-events</td>\n",
       "      <td>50-59</td>\n",
       "      <td>ge40</td>\n",
       "      <td>25-29</td>\n",
       "      <td>0-2</td>\n",
       "      <td>no</td>\n",
       "      <td>2</td>\n",
       "      <td>left</td>\n",
       "      <td>left_low</td>\n",
       "      <td>no</td>\n",
       "    </tr>\n",
       "    <tr>\n",
       "      <th>2</th>\n",
       "      <td>no-recurrence-events</td>\n",
       "      <td>60-69</td>\n",
       "      <td>lt40</td>\n",
       "      <td>10-14</td>\n",
       "      <td>0-2</td>\n",
       "      <td>no</td>\n",
       "      <td>1</td>\n",
       "      <td>left</td>\n",
       "      <td>right_up</td>\n",
       "      <td>no</td>\n",
       "    </tr>\n",
       "    <tr>\n",
       "      <th>3</th>\n",
       "      <td>no-recurrence-events</td>\n",
       "      <td>50-59</td>\n",
       "      <td>ge40</td>\n",
       "      <td>25-29</td>\n",
       "      <td>0-2</td>\n",
       "      <td>no</td>\n",
       "      <td>3</td>\n",
       "      <td>left</td>\n",
       "      <td>right_up</td>\n",
       "      <td>no</td>\n",
       "    </tr>\n",
       "    <tr>\n",
       "      <th>4</th>\n",
       "      <td>no-recurrence-events</td>\n",
       "      <td>40-49</td>\n",
       "      <td>premeno</td>\n",
       "      <td>30-34</td>\n",
       "      <td>0-2</td>\n",
       "      <td>no</td>\n",
       "      <td>3</td>\n",
       "      <td>left</td>\n",
       "      <td>left_up</td>\n",
       "      <td>no</td>\n",
       "    </tr>\n",
       "    <tr>\n",
       "      <th>...</th>\n",
       "      <td>...</td>\n",
       "      <td>...</td>\n",
       "      <td>...</td>\n",
       "      <td>...</td>\n",
       "      <td>...</td>\n",
       "      <td>...</td>\n",
       "      <td>...</td>\n",
       "      <td>...</td>\n",
       "      <td>...</td>\n",
       "      <td>...</td>\n",
       "    </tr>\n",
       "    <tr>\n",
       "      <th>137</th>\n",
       "      <td>recurrence-events</td>\n",
       "      <td>30-39</td>\n",
       "      <td>premeno</td>\n",
       "      <td>30-34</td>\n",
       "      <td>0-2</td>\n",
       "      <td>no</td>\n",
       "      <td>2</td>\n",
       "      <td>left</td>\n",
       "      <td>left_up</td>\n",
       "      <td>no</td>\n",
       "    </tr>\n",
       "    <tr>\n",
       "      <th>138</th>\n",
       "      <td>recurrence-events</td>\n",
       "      <td>30-39</td>\n",
       "      <td>premeno</td>\n",
       "      <td>20-24</td>\n",
       "      <td>0-2</td>\n",
       "      <td>no</td>\n",
       "      <td>3</td>\n",
       "      <td>left</td>\n",
       "      <td>left_up</td>\n",
       "      <td>yes</td>\n",
       "    </tr>\n",
       "    <tr>\n",
       "      <th>139</th>\n",
       "      <td>recurrence-events</td>\n",
       "      <td>60-69</td>\n",
       "      <td>ge40</td>\n",
       "      <td>20-24</td>\n",
       "      <td>0-2</td>\n",
       "      <td>no</td>\n",
       "      <td>1</td>\n",
       "      <td>right</td>\n",
       "      <td>left_up</td>\n",
       "      <td>no</td>\n",
       "    </tr>\n",
       "    <tr>\n",
       "      <th>140</th>\n",
       "      <td>recurrence-events</td>\n",
       "      <td>40-49</td>\n",
       "      <td>ge40</td>\n",
       "      <td>30-34</td>\n",
       "      <td>3-5</td>\n",
       "      <td>no</td>\n",
       "      <td>3</td>\n",
       "      <td>left</td>\n",
       "      <td>left_low</td>\n",
       "      <td>no</td>\n",
       "    </tr>\n",
       "    <tr>\n",
       "      <th>141</th>\n",
       "      <td>recurrence-events</td>\n",
       "      <td>50-59</td>\n",
       "      <td>ge40</td>\n",
       "      <td>30-34</td>\n",
       "      <td>3-5</td>\n",
       "      <td>no</td>\n",
       "      <td>3</td>\n",
       "      <td>left</td>\n",
       "      <td>left_low</td>\n",
       "      <td>no</td>\n",
       "    </tr>\n",
       "  </tbody>\n",
       "</table>\n",
       "<p>142 rows × 10 columns</p>\n",
       "</div>"
      ],
      "text/plain": [
       "                    Class    age menopause tumor-size inv-nodes node-caps  \\\n",
       "0    no-recurrence-events  40-49   premeno        0-4       0-2        no   \n",
       "1    no-recurrence-events  50-59      ge40      25-29       0-2        no   \n",
       "2    no-recurrence-events  60-69      lt40      10-14       0-2        no   \n",
       "3    no-recurrence-events  50-59      ge40      25-29       0-2        no   \n",
       "4    no-recurrence-events  40-49   premeno      30-34       0-2        no   \n",
       "..                    ...    ...       ...        ...       ...       ...   \n",
       "137     recurrence-events  30-39   premeno      30-34       0-2        no   \n",
       "138     recurrence-events  30-39   premeno      20-24       0-2        no   \n",
       "139     recurrence-events  60-69      ge40      20-24       0-2        no   \n",
       "140     recurrence-events  40-49      ge40      30-34       3-5        no   \n",
       "141     recurrence-events  50-59      ge40      30-34       3-5        no   \n",
       "\n",
       "     deg-malig breast breast-quad irradiat  \n",
       "0            3   left     central       no  \n",
       "1            2   left    left_low       no  \n",
       "2            1   left    right_up       no  \n",
       "3            3   left    right_up       no  \n",
       "4            3   left     left_up       no  \n",
       "..         ...    ...         ...      ...  \n",
       "137          2   left     left_up       no  \n",
       "138          3   left     left_up      yes  \n",
       "139          1  right     left_up       no  \n",
       "140          3   left    left_low       no  \n",
       "141          3   left    left_low       no  \n",
       "\n",
       "[142 rows x 10 columns]"
      ]
     },
     "execution_count": 31,
     "metadata": {},
     "output_type": "execute_result"
    }
   ],
   "source": [
    "raw_df = pd.read_csv(\"./data/breast-cancer-train.csv\")\n",
    "raw_df "
   ]
  },
  {
   "cell_type": "code",
   "execution_count": 41,
   "id": "1cbccfcf-72af-40dd-8b32-63a124014d43",
   "metadata": {},
   "outputs": [],
   "source": [
    "# 初始化数据\n",
    "raw_df.to_csv('初始化数据.csv', index = None)"
   ]
  },
  {
   "cell_type": "code",
   "execution_count": 26,
   "id": "e3cded74-0bea-46ea-a9a3-f338fc607027",
   "metadata": {},
   "outputs": [],
   "source": [
    "data = raw_df"
   ]
  },
  {
   "cell_type": "code",
   "execution_count": 35,
   "id": "9d343aaa-bada-44eb-b32a-da89e90961b9",
   "metadata": {},
   "outputs": [
    {
     "data": {
      "text/plain": [
       "<AxesSubplot:ylabel='count'>"
      ]
     },
     "execution_count": 35,
     "metadata": {},
     "output_type": "execute_result"
    },
    {
     "data": {
      "image/png": "[encoded data removed]",
      "text/plain": [
       "<Figure size 432x288 with 1 Axes>"
      ]
     },
     "metadata": {
      "needs_background": "light"
     },
     "output_type": "display_data"
    }
   ],
   "source": [
    "# 癌症和癌症费的分布\n",
    "# 用于画条形图\n",
    "# inv-nodes值\n",
    "sns.countplot(data['deg-malig'], label ='Class')"
   ]
  },
  {
   "cell_type": "code",
   "execution_count": null,
   "id": "67f2acba-e45d-4708-b916-ae4686ce2224",
   "metadata": {},
   "outputs": [],
   "source": []
  },
  {
   "cell_type": "code",
   "execution_count": 29,
   "id": "28fcaa5b-3109-44cc-9dd6-b084ad18bfee",
   "metadata": {},
   "outputs": [
    {
     "name": "stdout",
     "output_type": "stream",
     "text": [
      "(99, 10)\n",
      "(43, 10)\n"
     ]
    }
   ],
   "source": [
    "# 划分数据集和测试集\n",
    "train, test = train_test_split(data, test_size = 0.3)\n",
    "print(train.shape)\n",
    "print(test.shape)"
   ]
  },
  {
   "cell_type": "code",
   "execution_count": 37,
   "id": "dda6ed15-ff15-42f5-8ee8-66e24b85078c",
   "metadata": {},
   "outputs": [],
   "source": [
    "train_x = train.columns[1:9]\n",
    "train_y = train.Class"
   ]
  },
  {
   "cell_type": "code",
   "execution_count": 40,
   "id": "f7869cad-bcfa-4754-84a1-ec3b06a41146",
   "metadata": {},
   "outputs": [
    {
     "ename": "ValueError",
     "evalue": "could not convert string to float: 'age'",
     "output_type": "error",
     "traceback": [
      "\u001b[0;31m---------------------------------------------------------------------------\u001b[0m",
      "\u001b[0;31mValueError\u001b[0m                                Traceback (most recent call last)",
      "Input \u001b[0;32mIn [40]\u001b[0m, in \u001b[0;36m<cell line: 3>\u001b[0;34m()\u001b[0m\n\u001b[1;32m      1\u001b[0m \u001b[38;5;28;01mfrom\u001b[39;00m \u001b[38;5;21;01msklearn\u001b[39;00m\u001b[38;5;21;01m.\u001b[39;00m\u001b[38;5;21;01mensemble\u001b[39;00m \u001b[38;5;28;01mimport\u001b[39;00m ExtraTreesClassifier\n\u001b[1;32m      2\u001b[0m clf \u001b[38;5;241m=\u001b[39m ExtraTreesClassifier()\n\u001b[0;32m----> 3\u001b[0m \u001b[43mclf\u001b[49m\u001b[38;5;241;43m.\u001b[39;49m\u001b[43mfit\u001b[49m\u001b[43m(\u001b[49m\u001b[43mtrain_x\u001b[49m\u001b[43m,\u001b[49m\u001b[43m \u001b[49m\u001b[43mtrain_y\u001b[49m\u001b[43m)\u001b[49m\n\u001b[1;32m      4\u001b[0m clf\u001b[38;5;241m.\u001b[39mfeature_importances\n",
      "File \u001b[0;32m/opt/anaconda3/envs/torch1.12/lib/python3.10/site-packages/sklearn/ensemble/_forest.py:331\u001b[0m, in \u001b[0;36mBaseForest.fit\u001b[0;34m(self, X, y, sample_weight)\u001b[0m\n\u001b[1;32m    329\u001b[0m \u001b[38;5;28;01mif\u001b[39;00m issparse(y):\n\u001b[1;32m    330\u001b[0m     \u001b[38;5;28;01mraise\u001b[39;00m \u001b[38;5;167;01mValueError\u001b[39;00m(\u001b[38;5;124m\"\u001b[39m\u001b[38;5;124msparse multilabel-indicator for y is not supported.\u001b[39m\u001b[38;5;124m\"\u001b[39m)\n\u001b[0;32m--> 331\u001b[0m X, y \u001b[38;5;241m=\u001b[39m \u001b[38;5;28;43mself\u001b[39;49m\u001b[38;5;241;43m.\u001b[39;49m\u001b[43m_validate_data\u001b[49m\u001b[43m(\u001b[49m\n\u001b[1;32m    332\u001b[0m \u001b[43m    \u001b[49m\u001b[43mX\u001b[49m\u001b[43m,\u001b[49m\u001b[43m \u001b[49m\u001b[43my\u001b[49m\u001b[43m,\u001b[49m\u001b[43m \u001b[49m\u001b[43mmulti_output\u001b[49m\u001b[38;5;241;43m=\u001b[39;49m\u001b[38;5;28;43;01mTrue\u001b[39;49;00m\u001b[43m,\u001b[49m\u001b[43m \u001b[49m\u001b[43maccept_sparse\u001b[49m\u001b[38;5;241;43m=\u001b[39;49m\u001b[38;5;124;43m\"\u001b[39;49m\u001b[38;5;124;43mcsc\u001b[39;49m\u001b[38;5;124;43m\"\u001b[39;49m\u001b[43m,\u001b[49m\u001b[43m \u001b[49m\u001b[43mdtype\u001b[49m\u001b[38;5;241;43m=\u001b[39;49m\u001b[43mDTYPE\u001b[49m\n\u001b[1;32m    333\u001b[0m \u001b[43m\u001b[49m\u001b[43m)\u001b[49m\n\u001b[1;32m    334\u001b[0m \u001b[38;5;28;01mif\u001b[39;00m sample_weight \u001b[38;5;129;01mis\u001b[39;00m \u001b[38;5;129;01mnot\u001b[39;00m \u001b[38;5;28;01mNone\u001b[39;00m:\n\u001b[1;32m    335\u001b[0m     sample_weight \u001b[38;5;241m=\u001b[39m _check_sample_weight(sample_weight, X)\n",
      "File \u001b[0;32m/opt/anaconda3/envs/torch1.12/lib/python3.10/site-packages/sklearn/base.py:596\u001b[0m, in \u001b[0;36mBaseEstimator._validate_data\u001b[0;34m(self, X, y, reset, validate_separately, **check_params)\u001b[0m\n\u001b[1;32m    594\u001b[0m         y \u001b[38;5;241m=\u001b[39m check_array(y, input_name\u001b[38;5;241m=\u001b[39m\u001b[38;5;124m\"\u001b[39m\u001b[38;5;124my\u001b[39m\u001b[38;5;124m\"\u001b[39m, \u001b[38;5;241m*\u001b[39m\u001b[38;5;241m*\u001b[39mcheck_y_params)\n\u001b[1;32m    595\u001b[0m     \u001b[38;5;28;01melse\u001b[39;00m:\n\u001b[0;32m--> 596\u001b[0m         X, y \u001b[38;5;241m=\u001b[39m \u001b[43mcheck_X_y\u001b[49m\u001b[43m(\u001b[49m\u001b[43mX\u001b[49m\u001b[43m,\u001b[49m\u001b[43m \u001b[49m\u001b[43my\u001b[49m\u001b[43m,\u001b[49m\u001b[43m \u001b[49m\u001b[38;5;241;43m*\u001b[39;49m\u001b[38;5;241;43m*\u001b[39;49m\u001b[43mcheck_params\u001b[49m\u001b[43m)\u001b[49m\n\u001b[1;32m    597\u001b[0m     out \u001b[38;5;241m=\u001b[39m X, y\n\u001b[1;32m    599\u001b[0m \u001b[38;5;28;01mif\u001b[39;00m \u001b[38;5;129;01mnot\u001b[39;00m no_val_X \u001b[38;5;129;01mand\u001b[39;00m check_params\u001b[38;5;241m.\u001b[39mget(\u001b[38;5;124m\"\u001b[39m\u001b[38;5;124mensure_2d\u001b[39m\u001b[38;5;124m\"\u001b[39m, \u001b[38;5;28;01mTrue\u001b[39;00m):\n",
      "File \u001b[0;32m/opt/anaconda3/envs/torch1.12/lib/python3.10/site-packages/sklearn/utils/validation.py:1074\u001b[0m, in \u001b[0;36mcheck_X_y\u001b[0;34m(X, y, accept_sparse, accept_large_sparse, dtype, order, copy, force_all_finite, ensure_2d, allow_nd, multi_output, ensure_min_samples, ensure_min_features, y_numeric, estimator)\u001b[0m\n\u001b[1;32m   1069\u001b[0m         estimator_name \u001b[38;5;241m=\u001b[39m _check_estimator_name(estimator)\n\u001b[1;32m   1070\u001b[0m     \u001b[38;5;28;01mraise\u001b[39;00m \u001b[38;5;167;01mValueError\u001b[39;00m(\n\u001b[1;32m   1071\u001b[0m         \u001b[38;5;124mf\u001b[39m\u001b[38;5;124m\"\u001b[39m\u001b[38;5;132;01m{\u001b[39;00mestimator_name\u001b[38;5;132;01m}\u001b[39;00m\u001b[38;5;124m requires y to be passed, but the target y is None\u001b[39m\u001b[38;5;124m\"\u001b[39m\n\u001b[1;32m   1072\u001b[0m     )\n\u001b[0;32m-> 1074\u001b[0m X \u001b[38;5;241m=\u001b[39m \u001b[43mcheck_array\u001b[49m\u001b[43m(\u001b[49m\n\u001b[1;32m   1075\u001b[0m \u001b[43m    \u001b[49m\u001b[43mX\u001b[49m\u001b[43m,\u001b[49m\n\u001b[1;32m   1076\u001b[0m \u001b[43m    \u001b[49m\u001b[43maccept_sparse\u001b[49m\u001b[38;5;241;43m=\u001b[39;49m\u001b[43maccept_sparse\u001b[49m\u001b[43m,\u001b[49m\n\u001b[1;32m   1077\u001b[0m \u001b[43m    \u001b[49m\u001b[43maccept_large_sparse\u001b[49m\u001b[38;5;241;43m=\u001b[39;49m\u001b[43maccept_large_sparse\u001b[49m\u001b[43m,\u001b[49m\n\u001b[1;32m   1078\u001b[0m \u001b[43m    \u001b[49m\u001b[43mdtype\u001b[49m\u001b[38;5;241;43m=\u001b[39;49m\u001b[43mdtype\u001b[49m\u001b[43m,\u001b[49m\n\u001b[1;32m   1079\u001b[0m \u001b[43m    \u001b[49m\u001b[43morder\u001b[49m\u001b[38;5;241;43m=\u001b[39;49m\u001b[43morder\u001b[49m\u001b[43m,\u001b[49m\n\u001b[1;32m   1080\u001b[0m \u001b[43m    \u001b[49m\u001b[43mcopy\u001b[49m\u001b[38;5;241;43m=\u001b[39;49m\u001b[43mcopy\u001b[49m\u001b[43m,\u001b[49m\n\u001b[1;32m   1081\u001b[0m \u001b[43m    \u001b[49m\u001b[43mforce_all_finite\u001b[49m\u001b[38;5;241;43m=\u001b[39;49m\u001b[43mforce_all_finite\u001b[49m\u001b[43m,\u001b[49m\n\u001b[1;32m   1082\u001b[0m \u001b[43m    \u001b[49m\u001b[43mensure_2d\u001b[49m\u001b[38;5;241;43m=\u001b[39;49m\u001b[43mensure_2d\u001b[49m\u001b[43m,\u001b[49m\n\u001b[1;32m   1083\u001b[0m \u001b[43m    \u001b[49m\u001b[43mallow_nd\u001b[49m\u001b[38;5;241;43m=\u001b[39;49m\u001b[43mallow_nd\u001b[49m\u001b[43m,\u001b[49m\n\u001b[1;32m   1084\u001b[0m \u001b[43m    \u001b[49m\u001b[43mensure_min_samples\u001b[49m\u001b[38;5;241;43m=\u001b[39;49m\u001b[43mensure_min_samples\u001b[49m\u001b[43m,\u001b[49m\n\u001b[1;32m   1085\u001b[0m \u001b[43m    \u001b[49m\u001b[43mensure_min_features\u001b[49m\u001b[38;5;241;43m=\u001b[39;49m\u001b[43mensure_min_features\u001b[49m\u001b[43m,\u001b[49m\n\u001b[1;32m   1086\u001b[0m \u001b[43m    \u001b[49m\u001b[43mestimator\u001b[49m\u001b[38;5;241;43m=\u001b[39;49m\u001b[43mestimator\u001b[49m\u001b[43m,\u001b[49m\n\u001b[1;32m   1087\u001b[0m \u001b[43m    \u001b[49m\u001b[43minput_name\u001b[49m\u001b[38;5;241;43m=\u001b[39;49m\u001b[38;5;124;43m\"\u001b[39;49m\u001b[38;5;124;43mX\u001b[39;49m\u001b[38;5;124;43m\"\u001b[39;49m\u001b[43m,\u001b[49m\n\u001b[1;32m   1088\u001b[0m \u001b[43m\u001b[49m\u001b[43m)\u001b[49m\n\u001b[1;32m   1090\u001b[0m y \u001b[38;5;241m=\u001b[39m _check_y(y, multi_output\u001b[38;5;241m=\u001b[39mmulti_output, y_numeric\u001b[38;5;241m=\u001b[39my_numeric, estimator\u001b[38;5;241m=\u001b[39mestimator)\n\u001b[1;32m   1092\u001b[0m check_consistent_length(X, y)\n",
      "File \u001b[0;32m/opt/anaconda3/envs/torch1.12/lib/python3.10/site-packages/sklearn/utils/validation.py:856\u001b[0m, in \u001b[0;36mcheck_array\u001b[0;34m(array, accept_sparse, accept_large_sparse, dtype, order, copy, force_all_finite, ensure_2d, allow_nd, ensure_min_samples, ensure_min_features, estimator, input_name)\u001b[0m\n\u001b[1;32m    854\u001b[0m         array \u001b[38;5;241m=\u001b[39m array\u001b[38;5;241m.\u001b[39mastype(dtype, casting\u001b[38;5;241m=\u001b[39m\u001b[38;5;124m\"\u001b[39m\u001b[38;5;124munsafe\u001b[39m\u001b[38;5;124m\"\u001b[39m, copy\u001b[38;5;241m=\u001b[39m\u001b[38;5;28;01mFalse\u001b[39;00m)\n\u001b[1;32m    855\u001b[0m     \u001b[38;5;28;01melse\u001b[39;00m:\n\u001b[0;32m--> 856\u001b[0m         array \u001b[38;5;241m=\u001b[39m \u001b[43mnp\u001b[49m\u001b[38;5;241;43m.\u001b[39;49m\u001b[43masarray\u001b[49m\u001b[43m(\u001b[49m\u001b[43marray\u001b[49m\u001b[43m,\u001b[49m\u001b[43m \u001b[49m\u001b[43morder\u001b[49m\u001b[38;5;241;43m=\u001b[39;49m\u001b[43morder\u001b[49m\u001b[43m,\u001b[49m\u001b[43m \u001b[49m\u001b[43mdtype\u001b[49m\u001b[38;5;241;43m=\u001b[39;49m\u001b[43mdtype\u001b[49m\u001b[43m)\u001b[49m\n\u001b[1;32m    857\u001b[0m \u001b[38;5;28;01mexcept\u001b[39;00m ComplexWarning \u001b[38;5;28;01mas\u001b[39;00m complex_warning:\n\u001b[1;32m    858\u001b[0m     \u001b[38;5;28;01mraise\u001b[39;00m \u001b[38;5;167;01mValueError\u001b[39;00m(\n\u001b[1;32m    859\u001b[0m         \u001b[38;5;124m\"\u001b[39m\u001b[38;5;124mComplex data not supported\u001b[39m\u001b[38;5;130;01m\\n\u001b[39;00m\u001b[38;5;132;01m{}\u001b[39;00m\u001b[38;5;130;01m\\n\u001b[39;00m\u001b[38;5;124m\"\u001b[39m\u001b[38;5;241m.\u001b[39mformat(array)\n\u001b[1;32m    860\u001b[0m     ) \u001b[38;5;28;01mfrom\u001b[39;00m \u001b[38;5;21;01mcomplex_warning\u001b[39;00m\n",
      "File \u001b[0;32m/opt/anaconda3/envs/torch1.12/lib/python3.10/site-packages/pandas/core/indexes/base.py:894\u001b[0m, in \u001b[0;36mIndex.__array__\u001b[0;34m(self, dtype)\u001b[0m\n\u001b[1;32m    890\u001b[0m \u001b[38;5;28;01mdef\u001b[39;00m \u001b[38;5;21m__array__\u001b[39m(\u001b[38;5;28mself\u001b[39m, dtype\u001b[38;5;241m=\u001b[39m\u001b[38;5;28;01mNone\u001b[39;00m) \u001b[38;5;241m-\u001b[39m\u001b[38;5;241m>\u001b[39m np\u001b[38;5;241m.\u001b[39mndarray:\n\u001b[1;32m    891\u001b[0m     \u001b[38;5;124;03m\"\"\"\u001b[39;00m\n\u001b[1;32m    892\u001b[0m \u001b[38;5;124;03m    The array interface, return my values.\u001b[39;00m\n\u001b[1;32m    893\u001b[0m \u001b[38;5;124;03m    \"\"\"\u001b[39;00m\n\u001b[0;32m--> 894\u001b[0m     \u001b[38;5;28;01mreturn\u001b[39;00m \u001b[43mnp\u001b[49m\u001b[38;5;241;43m.\u001b[39;49m\u001b[43masarray\u001b[49m\u001b[43m(\u001b[49m\u001b[38;5;28;43mself\u001b[39;49m\u001b[38;5;241;43m.\u001b[39;49m\u001b[43m_data\u001b[49m\u001b[43m,\u001b[49m\u001b[43m \u001b[49m\u001b[43mdtype\u001b[49m\u001b[38;5;241;43m=\u001b[39;49m\u001b[43mdtype\u001b[49m\u001b[43m)\u001b[49m\n",
      "\u001b[0;31mValueError\u001b[0m: could not convert string to float: 'age'"
     ]
    }
   ],
   "source": [
    "# 极度随机树\n",
    "from sklearn.ensemble import ExtraTreesClassifier\n",
    "clf = ExtraTreesClassifier()\n",
    "clf.fit(train_x, train_y)\n",
    "clf.feature_importances"
   ]
  },
  {
   "cell_type": "code",
   "execution_count": 34,
   "id": "b19a0e8a-824e-4b51-867d-f90e5d998f38",
   "metadata": {},
   "outputs": [
    {
     "ename": "NameError",
     "evalue": "name 'fea_dict' is not defined",
     "output_type": "error",
     "traceback": [
      "\u001b[0;31m---------------------------------------------------------------------------\u001b[0m",
      "\u001b[0;31mNameError\u001b[0m                                 Traceback (most recent call last)",
      "Input \u001b[0;32mIn [34]\u001b[0m, in \u001b[0;36m<cell line: 1>\u001b[0;34m()\u001b[0m\n\u001b[0;32m----> 1\u001b[0m prediction_var \u001b[38;5;241m=\u001b[39m [k \u001b[38;5;28;01mfor\u001b[39;00m k, v \u001b[38;5;129;01min\u001b[39;00m \u001b[43mfea_dict\u001b[49m \u001b[38;5;28;01mif\u001b[39;00m v \u001b[38;5;241m>\u001b[39m \u001b[38;5;241m0.02\u001b[39m]\n\u001b[1;32m      2\u001b[0m prediction_var\n",
      "\u001b[0;31mNameError\u001b[0m: name 'fea_dict' is not defined"
     ]
    }
   ],
   "source": [
    "prediction_var = [k for k, v in fea_dict if v > 0.02]\n",
    "prediction_var"
   ]
  },
  {
   "cell_type": "code",
   "execution_count": null,
   "id": "2e4f0854-fd27-4a07-9c58-58689a3b457e",
   "metadata": {},
   "outputs": [],
   "source": [
    "Corr = data[prediction_var].corr()\n",
    "plt.figure(figsize=(14, 14)）\n",
    "sns.heatmap(corr, cbar = True, square = True, annot=True, fmt= '.2f', rannot_kws={'size': 15},\n",
    "           xticklabels = prediction_var, yticklabels= prediction_var, \n",
    "           cmap = 'coolwarm')"
   ]
  },
  {
   "cell_type": "code",
   "execution_count": null,
   "id": "71d28268-4939-401f-b25d-57f4ca11f917",
   "metadata": {},
   "outputs": [],
   "source": [
    "# 划分数据集 和 测试集\n",
    "train, test = train_test_spilt(data, test_size = 0.3)\n",
    "print(train.shape)\n",
    "print(test.shape)"
   ]
  },
  {
   "cell_type": "code",
   "execution_count": null,
   "id": "95193262-3248-4862-b856-561d94a6ba55",
   "metadata": {},
   "outputs": [],
   "source": [
    "x_train = train[prediction_var]\n",
    "y_train = train.diagnosis\n",
    "x_test = test[prediction_var]\n",
    "y_test = test.diagnosis"
   ]
  },
  {
   "cell_type": "code",
   "execution_count": null,
   "id": "43c1dad9-7f37-408b-9722-3f129bb9a71f",
   "metadata": {},
   "outputs": [],
   "source": [
    "# 用交叉验证法选择 随机森林回归 'n_estimators' 最优的参数\n",
    "from sklearn.ensemble import RandomForestRegressor, RandomForestclassifier\n",
    "from sklearn.model_selection import GridSearchcv#网格授索\n",
    "rf = RandomForestClassifier(random_state = 10)\n",
    "time1 = time.time(）\n",
    "param_1 ={'n_estimators':list(range(400, 1000, 100))}\n",
    "model_1 = GridSearchCV(estimator = rf, param_grid = param_1, cv=5, n_jobs=-1)\n",
    "model_1.fit(x_train,y_train)\n",
    "print(\"model1最好的分数：{}\".format(model_1.best_score_)）\n",
    "print(\"model1最好的参数：{}\".format(mode1_1.best_params_)）\n",
    "print(\"model1消耗时间time=\".(time.time()-time1)) #时间大概60\n",
    "print(\"model1测试集的分数：{}\".format(model_1.score(x_test,y_test))"
   ]
  },
  {
   "cell_type": "code",
   "execution_count": null,
   "id": "88bf1bfb-eb36-4043-9819-a22878791baa",
   "metadata": {},
   "outputs": [],
   "source": [
    "# 2. 决策树回归\n",
    "from sklearn import tree\n",
    "time1 = time.time()\n",
    "param_2-{'max_depth':list(range(10,100,10)),'min_samples_leaf':list(range(1,10))}\n",
    "model_2=Gridsearchcv(estimator = tree.Decisionrreeclassifier(random_state=10),param_grid - param_2, n_jobs--1, cv=5)\n",
    "model_2.fit(x_train,y_train)\n",
    "print(\"model2最好的分数：{}\".format(model_2.best_score_)）\n",
    "print(\"model2最好的参数：{}\".format(mode1_2.best_params_)）\n",
    "print(\"model2消耗时间time=\".(time.time()-time1)) #时间大概60\n",
    "print(\"model2测试集的分数：{}\".format(model_2.score(x_test,y_test))"
   ]
  },
  {
   "cell_type": "code",
   "execution_count": null,
   "id": "5586f5a8-4591-4c64-94d6-838bfd3fb10f",
   "metadata": {},
   "outputs": [],
   "source": [
    "# 3.KNN回归\n",
    "from sklearn import neighbors\n",
    "time1 = time.time(）\n",
    "param_3={'n_neighbors':[i for i in range(1,11)], 'p':[i for i in range(1,6)]} \n",
    "model_3=GridSearchCV(estimator = neighbors.KNeighborsClassifier(), param_grid = param 3, n_jobs=-1, cv=5)\n",
    "model_3.fit(x_train,y_train)\n",
    "print(\"model3最好的分数：{}\".format(model_3.best_score_)）\n",
    "print(\"model3最好的参数：{}\".format(mode1_3.best_params_)）\n",
    "print(\"model3消耗时间time=\".(time.time()-time1)) #时间大概60\n",
    "print(\"model3测试集的分数：{}\".format(model_3.score(x_test,y_test))"
   ]
  },
  {
   "cell_type": "code",
   "execution_count": null,
   "id": "5f365805-5e52-4615-9092-1d7f63c83fcd",
   "metadata": {},
   "outputs": [],
   "source": [
    "# 4.逻辑回归\n",
    "from sklearn.linear model import LogisticRegression\n",
    "time1 = time.time()\n",
    "param_4={'C':[1, 2, 4], 'penalty':['11',\"12\"]}\n",
    "model_4=GridSearchcV(estimator = LogisticRegression(), param_grid = param_4, n_jobs=1, cv=5)\n",
    "model_4.fit(x_train, y_train)\n",
    "print(\"model4最好的分数：{}\".format(model_4.best_score_)）\n",
    "print(\"model4最好的参数：{}\".format(mode1_4.best_params_)）\n",
    "print(\"model4消耗时间time=\".(time.time()-time1)) #时间大概60\n",
    "print(\"model4测试集的分数：{}\".format(model_4.score(x_test,y_test))"
   ]
  },
  {
   "cell_type": "code",
   "execution_count": null,
   "id": "c36dc6c9-b549-4460-a296-d5602e235cc9",
   "metadata": {},
   "outputs": [],
   "source": [
    "# 5. 梯度提升\n",
    "from sklearn.ensemble import GradientBoostingClassifier\n",
    "time1 = time.time()\n",
    "param_5 = {'n_estimators':list(range(100, 600, 50))}\n",
    "model_5 = GridSearchcV(estimator = GradientBoostingClassifier(), param_grid = param_5, n_jobs=-1, cv=5)\n",
    "model_5.fit(x_train,y_train)\n",
    "print(\"model5最好的分数：{}\".format(model_5.best_score_)）\n",
    "print(\"model5最好的参数：{}\".format(mode1_5.best_params_)）\n",
    "print(\"model5消耗时间time=\".(time.time()-time1)) #时间大概248s分钟\n",
    "print(\"model5测试集的分数：{}\".format(model_5.score(x_test,y_test))"
   ]
  },
  {
   "cell_type": "code",
   "execution_count": null,
   "id": "1cfeb510-3618-4541-9173-cef9b190250a",
   "metadata": {},
   "outputs": [],
   "source": [
    "# 5. SVC\n",
    "from sklearn.svm import SVC\n",
    "time1 = time.time()\n",
    "param_6=('gamma':np.linspace(0, 0.001, 100)\n",
    "model_6=GridsearchCV(estimator = SVC(kernel = 'rbf'), param_grid = param_6, n_jobs=-1,cv=5)\n",
    "model_6.fit(x_train,y_train)\n",
    "print(\"model6最好的分数：{}\".format(model_6.best_score_)）\n",
    "print(\"model6最好的参数：{}\".format(mode1_6.best_params_)）\n",
    "print(\"model6消耗时间time=\".(time.time()-time1)) #时间大概248s分钟\n",
    "print(\"model6测试集的分数：{}\".format(model_6.score(x_test,y_test))"
   ]
  },
  {
   "cell_type": "code",
   "execution_count": null,
   "id": "1ab8dbed-b1a7-4f3e-944c-e785806bcac4",
   "metadata": {},
   "outputs": [],
   "source": [
    "import matplotlib\n",
    "import matplotlib.pyplot as plt\n",
    "# matplotlib.rcParams['font. sans-serif'] = ['SimHei'] #用黑体显示中文\n",
    "plt.rcParams[\"font.family\"] = \"Arial Unicode MS'\n",
    "plt.rcParamsl'figure.figsize']=(6.0, 4.0)\n",
    "plt.rcParams['savefig.dpi']= 200 #图片像素\n",
    "plt.rcParams['figure.dpi']= 200 #分辦率\n",
    "# 默认的像素：16.0,4.0]，分辦率为100，图片尺寸为 6005400\n",
    "# 指定dpi=200，图片尺寸为 1200*800\n",
    "# 指定dpi=300，图片尺寸为 1800*1200\n",
    "# 设置figsize可以在不改变分辦率情况下改变比例\n",
    "\n",
    "x = ['随机森林', \"决策树’, 'KNN回归', '逻辑回归', '梯度提升', 'SVC',]\n",
    "y1 = [model_1.best_score_,model_2.best_score_,mode1_3.best_score_,\n",
    "      model_4.best_score_,model_5.best_score_,mode1_6.best_score_,\n",
    "     ]\n",
    "y1 = [round(item, 4) for item in y1]\n",
    "plt.plot(x, y1, marker=’*’, ms=5, label= \"a\")\n",
    "plt.xticks(rotation=45)\n",
    "plt.xlabel(\"模型\"）\n",
    "plt.ylabel(\"准确率\"）\n",
    "plt.title(\"乳腺癌分类\"）\n",
    "plt.legend(loc=\"upper left\")\n",
    "plt.savefig(\"a.jpg\")\n",
    "plt.show(）"
   ]
  },
  {
   "cell_type": "code",
   "execution_count": null,
   "id": "d85e7249-06bb-4bc2-bf04-86a1355ee6a8",
   "metadata": {},
   "outputs": [],
   "source": [
    "import joblib"
   ]
  }
 ],
 "metadata": {
  "kernelspec": {
   "display_name": "torch1.12",
   "language": "python",
   "name": "torch1.12"
  },
  "language_info": {
   "codemirror_mode": {
    "name": "ipython",
    "version": 3
   },
   "file_extension": ".py",
   "mimetype": "text/x-python",
   "name": "python",
   "nbconvert_exporter": "python",
   "pygments_lexer": "ipython3",
   "version": "3.10.6"
  }
 },
 "nbformat": 4,
 "nbformat_minor": 5
}

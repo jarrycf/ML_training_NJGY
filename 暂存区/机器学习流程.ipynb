{
 "cells": [
  {
   "cell_type": "code",
   "execution_count": null,
   "id": "05648075-22c8-4b9a-aabe-98ad3ac938f8",
   "metadata": {},
   "outputs": [],
   "source": [
    "# 代码9\n",
    "\n",
    "from sklearn.datasets import load_boston\n",
    "from sklearn.model_selection import train_test_split\n",
    "from sklearn.preprocessing import StandardScaler\n",
    "from sklearn.linear_model import LinearRegression, SGDRegressor, Ridge\n",
    "from sklearn.metrics import mean_squared_error,r2_score\n",
    "import joblib\n",
    "\n",
    "boston = load_boston()\n",
    "\n",
    "x_train, x_test, y_train, y_test = train_test_split(boston.data, boston.target, test_size=0.2, random_state=0)\n",
    "transfer = StandardScaler()\n",
    "x_train = transfer.fit_transform(x_train)\n",
    "x_test = transfer.transform(x_test)\n",
    "\n",
    "estimator = LinearRegression()\n",
    "estimator.fit(x_train, y_train)\n",
    "\n",
    "estimator.coef_\n",
    "estimator.intercept_\n",
    "\n",
    "mean_squared_error(y_test, estimator.predict(x_test))\n",
    "\n",
    "estimator = SGDRegressor(penalty='l1', max_iter=1000, learning_rate='constant', eta0=0.001)\n",
    "estimator.fit(x_train, y_train)\n",
    "\n",
    "estimator.coef_\n",
    "estimator.intercept_\n",
    "\n",
    "mean_squared_error(y_test, estimator.predict(x_test))\n",
    "\n",
    "estimator = SGDRegressor(penalty='l2', max_iter=1000, learning_rate='constant', eta0=0.001)\n",
    "estimator.fit(x_train, y_train)\n",
    "\n",
    "estimator.coef_\n",
    "estimator.intercept_\n",
    "\n",
    "mean_squared_error(y_test, estimator.predict(x_test))\n",
    "\n",
    "joblib.dump(estimator, \"./dump/my_ridge.pkl\")\n",
    "estimator = joblib.load(\"./dump/my_ridge.pkl\")\n",
    "\n",
    "estimator.coef_\n",
    "estimator.intercept_\n",
    "\n",
    "r2_score(y_test, estimator.predict(x_test))"
   ]
  },
  {
   "cell_type": "code",
   "execution_count": null,
   "id": "252458ef-bac3-437e-925b-b148c4aa087b",
   "metadata": {},
   "outputs": [],
   "source": []
  },
  {
   "cell_type": "markdown",
   "id": "2e80d977-f518-4f59-b58a-d9d0693593af",
   "metadata": {},
   "source": [
    "1. 获取数据\n",
    "2. 划分数据集\n",
    "3. 数据预处理：归一化\n",
    "4. 选择算法\n",
    "5. 训练模型\n",
    "6. 模型评估\n",
    "7. 模型保存\n",
    "8. 模型导入\n",
    "\n",
    "\n"
   ]
  },
  {
   "cell_type": "code",
   "execution_count": 6,
   "id": "0e0b8a54-1593-4ac1-a9dc-47e014263b3a",
   "metadata": {
    "scrolled": true,
    "tags": []
   },
   "outputs": [],
   "source": [
    "# 1. 获取数据\n",
    "import pandas as pd\n",
    "from sklearn.datasets import load_boston\n",
    "boston = load_boston()\n",
    "\n"
   ]
  },
  {
   "cell_type": "code",
   "execution_count": 7,
   "id": "e6c49df2-4b5d-4005-ab2b-abf75afc879c",
   "metadata": {},
   "outputs": [
    {
     "data": {
      "text/plain": [
       "array([[3.5809e-01, 0.0000e+00, 6.2000e+00, ..., 1.7400e+01, 3.9170e+02,\n",
       "        9.7100e+00],\n",
       "       [1.5876e-01, 0.0000e+00, 1.0810e+01, ..., 1.9200e+01, 3.7694e+02,\n",
       "        9.8800e+00],\n",
       "       [1.1329e-01, 3.0000e+01, 4.9300e+00, ..., 1.6600e+01, 3.9125e+02,\n",
       "        1.1380e+01],\n",
       "       ...,\n",
       "       [1.5098e-01, 0.0000e+00, 1.0010e+01, ..., 1.7800e+01, 3.9451e+02,\n",
       "        1.0300e+01],\n",
       "       [2.2927e-01, 0.0000e+00, 6.9100e+00, ..., 1.7900e+01, 3.9274e+02,\n",
       "        1.8800e+01],\n",
       "       [1.3914e-01, 0.0000e+00, 4.0500e+00, ..., 1.6600e+01, 3.9690e+02,\n",
       "        1.4690e+01]])"
      ]
     },
     "execution_count": 7,
     "metadata": {},
     "output_type": "execute_result"
    }
   ],
   "source": [
    "# 2. 划分数据集\n",
    "from sklearn.model_selection import train_test_split\n",
    "x_train, x_test, y_train, y_test = train_test_split(boston.data, boston.target, test_size=0.2, random_state=0)\n",
    "x_train"
   ]
  },
  {
   "cell_type": "code",
   "execution_count": 8,
   "id": "e760a5e1-6d30-456c-9e15-669992004962",
   "metadata": {},
   "outputs": [
    {
     "data": {
      "text/plain": [
       "array([[-0.43675261, -0.43988269, -1.26009787, ..., -0.74834628,\n",
       "         0.26741336, -0.78804285],\n",
       "       [ 0.46354201, -0.43988269,  1.09537107, ...,  0.86739045,\n",
       "         0.17734381, -0.44982353],\n",
       "       [-0.43213476, -0.43988269,  0.42804104, ..., -0.99315487,\n",
       "         0.45162847, -0.30001862],\n",
       "       ...,\n",
       "       [-0.4286898 ,  0.69889992, -0.96051265, ...,  0.62258186,\n",
       "         0.46524826,  0.10924221],\n",
       "       [-0.42955423, -0.43988269, -0.09504426, ...,  0.08400295,\n",
       "         0.37279275, -0.47298923],\n",
       "       [-0.43078212, -0.43988269, -0.41682097, ...,  1.21012249,\n",
       "         0.46654065, -0.02666327]])"
      ]
     },
     "execution_count": 8,
     "metadata": {},
     "output_type": "execute_result"
    }
   ],
   "source": [
    "# 3. 数据预处理：归一化\n",
    "from sklearn.preprocessing import StandardScaler\n",
    "transfer = StandardScaler()\n",
    "transfer.fit_transform(x_train)\n",
    "transfer.fit_transform(x_test)"
   ]
  },
  {
   "cell_type": "code",
   "execution_count": 9,
   "id": "dcfbb8e9-e6e1-4d9b-adac-bdb5e957cbfe",
   "metadata": {
    "tags": []
   },
   "outputs": [
    {
     "data": {
      "text/plain": [
       "38.09169492630197"
      ]
     },
     "execution_count": 9,
     "metadata": {},
     "output_type": "execute_result"
    }
   ],
   "source": [
    "# 4. 选择算法\n",
    "from sklearn.linear_model import LinearRegression\n",
    "estimator = LinearRegression()\n",
    "\n",
    "# 5. 训练模型\n",
    "estimator.fit(x_train, y_train)\n",
    "estimator.coef_\n",
    "estimator.intercept_"
   ]
  },
  {
   "cell_type": "code",
   "execution_count": 10,
   "id": "d8e8045b-c4c0-460d-ab14-d8f8db809ed4",
   "metadata": {},
   "outputs": [
    {
     "data": {
      "text/plain": [
       "33.44897999767639"
      ]
     },
     "execution_count": 10,
     "metadata": {},
     "output_type": "execute_result"
    }
   ],
   "source": [
    "# 6. 模型评估\n",
    "from sklearn.metrics import mean_squared_error\n",
    "mean_squared_error(y_test, estimator.predict(x_test))"
   ]
  },
  {
   "cell_type": "code",
   "execution_count": 11,
   "id": "a76318d7-631b-4664-a0dd-477903a24d5a",
   "metadata": {},
   "outputs": [
    {
     "data": {
      "text/html": [
       "<style>#sk-container-id-1 {color: black;background-color: white;}#sk-container-id-1 pre{padding: 0;}#sk-container-id-1 div.sk-toggleable {background-color: white;}#sk-container-id-1 label.sk-toggleable__label {cursor: pointer;display: block;width: 100%;margin-bottom: 0;padding: 0.3em;box-sizing: border-box;text-align: center;}#sk-container-id-1 label.sk-toggleable__label-arrow:before {content: \"▸\";float: left;margin-right: 0.25em;color: #696969;}#sk-container-id-1 label.sk-toggleable__label-arrow:hover:before {color: black;}#sk-container-id-1 div.sk-estimator:hover label.sk-toggleable__label-arrow:before {color: black;}#sk-container-id-1 div.sk-toggleable__content {max-height: 0;max-width: 0;overflow: hidden;text-align: left;background-color: #f0f8ff;}#sk-container-id-1 div.sk-toggleable__content pre {margin: 0.2em;color: black;border-radius: 0.25em;background-color: #f0f8ff;}#sk-container-id-1 input.sk-toggleable__control:checked~div.sk-toggleable__content {max-height: 200px;max-width: 100%;overflow: auto;}#sk-container-id-1 input.sk-toggleable__control:checked~label.sk-toggleable__label-arrow:before {content: \"▾\";}#sk-container-id-1 div.sk-estimator input.sk-toggleable__control:checked~label.sk-toggleable__label {background-color: #d4ebff;}#sk-container-id-1 div.sk-label input.sk-toggleable__control:checked~label.sk-toggleable__label {background-color: #d4ebff;}#sk-container-id-1 input.sk-hidden--visually {border: 0;clip: rect(1px 1px 1px 1px);clip: rect(1px, 1px, 1px, 1px);height: 1px;margin: -1px;overflow: hidden;padding: 0;position: absolute;width: 1px;}#sk-container-id-1 div.sk-estimator {font-family: monospace;background-color: #f0f8ff;border: 1px dotted black;border-radius: 0.25em;box-sizing: border-box;margin-bottom: 0.5em;}#sk-container-id-1 div.sk-estimator:hover {background-color: #d4ebff;}#sk-container-id-1 div.sk-parallel-item::after {content: \"\";width: 100%;border-bottom: 1px solid gray;flex-grow: 1;}#sk-container-id-1 div.sk-label:hover label.sk-toggleable__label {background-color: #d4ebff;}#sk-container-id-1 div.sk-serial::before {content: \"\";position: absolute;border-left: 1px solid gray;box-sizing: border-box;top: 0;bottom: 0;left: 50%;z-index: 0;}#sk-container-id-1 div.sk-serial {display: flex;flex-direction: column;align-items: center;background-color: white;padding-right: 0.2em;padding-left: 0.2em;position: relative;}#sk-container-id-1 div.sk-item {position: relative;z-index: 1;}#sk-container-id-1 div.sk-parallel {display: flex;align-items: stretch;justify-content: center;background-color: white;position: relative;}#sk-container-id-1 div.sk-item::before, #sk-container-id-1 div.sk-parallel-item::before {content: \"\";position: absolute;border-left: 1px solid gray;box-sizing: border-box;top: 0;bottom: 0;left: 50%;z-index: -1;}#sk-container-id-1 div.sk-parallel-item {display: flex;flex-direction: column;z-index: 1;position: relative;background-color: white;}#sk-container-id-1 div.sk-parallel-item:first-child::after {align-self: flex-end;width: 50%;}#sk-container-id-1 div.sk-parallel-item:last-child::after {align-self: flex-start;width: 50%;}#sk-container-id-1 div.sk-parallel-item:only-child::after {width: 0;}#sk-container-id-1 div.sk-dashed-wrapped {border: 1px dashed gray;margin: 0 0.4em 0.5em 0.4em;box-sizing: border-box;padding-bottom: 0.4em;background-color: white;}#sk-container-id-1 div.sk-label label {font-family: monospace;font-weight: bold;display: inline-block;line-height: 1.2em;}#sk-container-id-1 div.sk-label-container {text-align: center;}#sk-container-id-1 div.sk-container {/* jupyter's `normalize.less` sets `[hidden] { display: none; }` but bootstrap.min.css set `[hidden] { display: none !important; }` so we also need the `!important` here to be able to override the default hidden behavior on the sphinx rendered scikit-learn.org. See: https://github.com/scikit-learn/scikit-learn/issues/21755 */display: inline-block !important;position: relative;}#sk-container-id-1 div.sk-text-repr-fallback {display: none;}</style><div id=\"sk-container-id-1\" class=\"sk-top-container\"><div class=\"sk-text-repr-fallback\"><pre>SGDRegressor(eta0=0.001, learning_rate=&#x27;constant&#x27;, penalty=&#x27;l1&#x27;)</pre><b>In a Jupyter environment, please rerun this cell to show the HTML representation or trust the notebook. <br />On GitHub, the HTML representation is unable to render, please try loading this page with nbviewer.org.</b></div><div class=\"sk-container\" hidden><div class=\"sk-item\"><div class=\"sk-estimator sk-toggleable\"><input class=\"sk-toggleable__control sk-hidden--visually\" id=\"sk-estimator-id-1\" type=\"checkbox\" checked><label for=\"sk-estimator-id-1\" class=\"sk-toggleable__label sk-toggleable__label-arrow\">SGDRegressor</label><div class=\"sk-toggleable__content\"><pre>SGDRegressor(eta0=0.001, learning_rate=&#x27;constant&#x27;, penalty=&#x27;l1&#x27;)</pre></div></div></div></div></div>"
      ],
      "text/plain": [
       "SGDRegressor(eta0=0.001, learning_rate='constant', penalty='l1')"
      ]
     },
     "execution_count": 11,
     "metadata": {},
     "output_type": "execute_result"
    }
   ],
   "source": [
    "# 4. 选择算法\n",
    "from sklearn.linear_model import SGDRegressor\n",
    "estimator = SGDRegressor(penalty='l1', max_iter=1000, learning_rate='constant', eta0=0.001)\n",
    "\n",
    "# 5. 训练模型\n",
    "estimator.fit(x_train, y_train)"
   ]
  },
  {
   "cell_type": "code",
   "execution_count": 12,
   "id": "cbb8f2b1-e687-45e7-98aa-408647a6ca00",
   "metadata": {},
   "outputs": [
    {
     "data": {
      "text/plain": [
       "7.443723097506089e+28"
      ]
     },
     "execution_count": 12,
     "metadata": {},
     "output_type": "execute_result"
    }
   ],
   "source": [
    "# 6. 模型评估\n",
    "mean_squared_error(y_test, estimator.predict(x_test))"
   ]
  },
  {
   "cell_type": "code",
   "execution_count": 13,
   "id": "db489404-00d0-4923-9761-e3d19ed2a245",
   "metadata": {},
   "outputs": [
    {
     "data": {
      "text/html": [
       "<style>#sk-container-id-2 {color: black;background-color: white;}#sk-container-id-2 pre{padding: 0;}#sk-container-id-2 div.sk-toggleable {background-color: white;}#sk-container-id-2 label.sk-toggleable__label {cursor: pointer;display: block;width: 100%;margin-bottom: 0;padding: 0.3em;box-sizing: border-box;text-align: center;}#sk-container-id-2 label.sk-toggleable__label-arrow:before {content: \"▸\";float: left;margin-right: 0.25em;color: #696969;}#sk-container-id-2 label.sk-toggleable__label-arrow:hover:before {color: black;}#sk-container-id-2 div.sk-estimator:hover label.sk-toggleable__label-arrow:before {color: black;}#sk-container-id-2 div.sk-toggleable__content {max-height: 0;max-width: 0;overflow: hidden;text-align: left;background-color: #f0f8ff;}#sk-container-id-2 div.sk-toggleable__content pre {margin: 0.2em;color: black;border-radius: 0.25em;background-color: #f0f8ff;}#sk-container-id-2 input.sk-toggleable__control:checked~div.sk-toggleable__content {max-height: 200px;max-width: 100%;overflow: auto;}#sk-container-id-2 input.sk-toggleable__control:checked~label.sk-toggleable__label-arrow:before {content: \"▾\";}#sk-container-id-2 div.sk-estimator input.sk-toggleable__control:checked~label.sk-toggleable__label {background-color: #d4ebff;}#sk-container-id-2 div.sk-label input.sk-toggleable__control:checked~label.sk-toggleable__label {background-color: #d4ebff;}#sk-container-id-2 input.sk-hidden--visually {border: 0;clip: rect(1px 1px 1px 1px);clip: rect(1px, 1px, 1px, 1px);height: 1px;margin: -1px;overflow: hidden;padding: 0;position: absolute;width: 1px;}#sk-container-id-2 div.sk-estimator {font-family: monospace;background-color: #f0f8ff;border: 1px dotted black;border-radius: 0.25em;box-sizing: border-box;margin-bottom: 0.5em;}#sk-container-id-2 div.sk-estimator:hover {background-color: #d4ebff;}#sk-container-id-2 div.sk-parallel-item::after {content: \"\";width: 100%;border-bottom: 1px solid gray;flex-grow: 1;}#sk-container-id-2 div.sk-label:hover label.sk-toggleable__label {background-color: #d4ebff;}#sk-container-id-2 div.sk-serial::before {content: \"\";position: absolute;border-left: 1px solid gray;box-sizing: border-box;top: 0;bottom: 0;left: 50%;z-index: 0;}#sk-container-id-2 div.sk-serial {display: flex;flex-direction: column;align-items: center;background-color: white;padding-right: 0.2em;padding-left: 0.2em;position: relative;}#sk-container-id-2 div.sk-item {position: relative;z-index: 1;}#sk-container-id-2 div.sk-parallel {display: flex;align-items: stretch;justify-content: center;background-color: white;position: relative;}#sk-container-id-2 div.sk-item::before, #sk-container-id-2 div.sk-parallel-item::before {content: \"\";position: absolute;border-left: 1px solid gray;box-sizing: border-box;top: 0;bottom: 0;left: 50%;z-index: -1;}#sk-container-id-2 div.sk-parallel-item {display: flex;flex-direction: column;z-index: 1;position: relative;background-color: white;}#sk-container-id-2 div.sk-parallel-item:first-child::after {align-self: flex-end;width: 50%;}#sk-container-id-2 div.sk-parallel-item:last-child::after {align-self: flex-start;width: 50%;}#sk-container-id-2 div.sk-parallel-item:only-child::after {width: 0;}#sk-container-id-2 div.sk-dashed-wrapped {border: 1px dashed gray;margin: 0 0.4em 0.5em 0.4em;box-sizing: border-box;padding-bottom: 0.4em;background-color: white;}#sk-container-id-2 div.sk-label label {font-family: monospace;font-weight: bold;display: inline-block;line-height: 1.2em;}#sk-container-id-2 div.sk-label-container {text-align: center;}#sk-container-id-2 div.sk-container {/* jupyter's `normalize.less` sets `[hidden] { display: none; }` but bootstrap.min.css set `[hidden] { display: none !important; }` so we also need the `!important` here to be able to override the default hidden behavior on the sphinx rendered scikit-learn.org. See: https://github.com/scikit-learn/scikit-learn/issues/21755 */display: inline-block !important;position: relative;}#sk-container-id-2 div.sk-text-repr-fallback {display: none;}</style><div id=\"sk-container-id-2\" class=\"sk-top-container\"><div class=\"sk-text-repr-fallback\"><pre>SGDRegressor(eta0=0.001, learning_rate=&#x27;constant&#x27;)</pre><b>In a Jupyter environment, please rerun this cell to show the HTML representation or trust the notebook. <br />On GitHub, the HTML representation is unable to render, please try loading this page with nbviewer.org.</b></div><div class=\"sk-container\" hidden><div class=\"sk-item\"><div class=\"sk-estimator sk-toggleable\"><input class=\"sk-toggleable__control sk-hidden--visually\" id=\"sk-estimator-id-2\" type=\"checkbox\" checked><label for=\"sk-estimator-id-2\" class=\"sk-toggleable__label sk-toggleable__label-arrow\">SGDRegressor</label><div class=\"sk-toggleable__content\"><pre>SGDRegressor(eta0=0.001, learning_rate=&#x27;constant&#x27;)</pre></div></div></div></div></div>"
      ],
      "text/plain": [
       "SGDRegressor(eta0=0.001, learning_rate='constant')"
      ]
     },
     "execution_count": 13,
     "metadata": {},
     "output_type": "execute_result"
    }
   ],
   "source": [
    "# 4. 选择算法\n",
    "estimator = SGDRegressor(penalty='l2', max_iter=1000, learning_rate='constant', eta0=0.001)\n",
    "\n",
    "# 5. 训练模型\n",
    "estimator.fit(x_train, y_train)"
   ]
  },
  {
   "cell_type": "code",
   "execution_count": 14,
   "id": "fdc4df7e-0b6b-40da-8fcb-c72552498419",
   "metadata": {},
   "outputs": [
    {
     "data": {
      "text/plain": [
       "5.00878437191748e+27"
      ]
     },
     "execution_count": 14,
     "metadata": {},
     "output_type": "execute_result"
    }
   ],
   "source": [
    "# 6. 模型评估\n",
    "mean_squared_error(y_test, estimator.predict(x_test))"
   ]
  },
  {
   "cell_type": "code",
   "execution_count": 15,
   "id": "a3cdc58c-d2b7-420a-a1f3-4f5061d01aa0",
   "metadata": {},
   "outputs": [
    {
     "data": {
      "text/plain": [
       "['./dump/my_ridge.pkl']"
      ]
     },
     "execution_count": 15,
     "metadata": {},
     "output_type": "execute_result"
    }
   ],
   "source": [
    "# 7. 模型保存\n",
    "import joblib\n",
    "joblib.dump(estimator, \"./dump/my_ridge.pkl\")"
   ]
  },
  {
   "cell_type": "code",
   "execution_count": 16,
   "id": "8a9eda81-d263-4349-b8ea-b7bc2120f364",
   "metadata": {},
   "outputs": [],
   "source": [
    "# 8. 模型导入\n",
    "estimator = joblib.load(\"./dump/my_ridge.pkl\")"
   ]
  },
  {
   "cell_type": "code",
   "execution_count": 17,
   "id": "87bfd3d8-0a79-4cb4-aff7-b8a88eccab21",
   "metadata": {},
   "outputs": [
    {
     "data": {
      "text/plain": [
       "array([6.11652365e+13, 1.04779349e+14, 1.64722946e+13, 1.04895544e+14,\n",
       "       4.97154507e+13, 2.75519824e+13, 1.08900086e+14, 8.09219588e+12,\n",
       "       3.40025926e+13, 6.96469161e+13, 1.43641309e+14, 1.35401690e+14,\n",
       "       1.09693839e+14, 1.04764809e+14, 4.47767632e+13, 5.64802020e+13,\n",
       "       1.06633827e+14, 4.59876494e+13, 2.75286789e+13, 2.26868497e+13,\n",
       "       2.31582969e+13, 4.92973190e+13, 4.16018661e+13, 2.43482387e+13,\n",
       "       1.39020614e+13, 1.26475712e+14, 2.36521661e+13, 5.69550645e+13,\n",
       "       1.67513498e+13, 5.03019245e+13, 1.04619047e+14, 1.04239118e+14,\n",
       "       3.41189530e+13, 2.87894068e+13, 2.03648503e+13, 1.07177385e+14,\n",
       "       1.04705824e+14, 1.07665891e+14, 1.32221436e+14, 1.11268257e+14,\n",
       "       2.92736090e+13, 1.41704740e+13, 5.98439793e+13, 1.07022474e+14,\n",
       "       5.24276344e+13, 9.77565329e+12, 2.43222271e+13, 5.18776240e+13,\n",
       "       4.58189807e+13, 4.14587127e+13, 7.46812506e+13, 5.05916648e+13,\n",
       "       2.68477630e+13, 4.15278241e+13, 6.51161272e+13, 3.31685703e+13,\n",
       "       3.61277689e+13, 4.06960197e+13, 1.41849796e+14, 1.68544522e+13,\n",
       "       6.42807340e+13, 2.68550225e+13, 4.22667593e+13, 3.25653406e+13,\n",
       "       1.08724676e+14, 5.81341370e+13, 1.06031733e+14, 2.57473791e+13,\n",
       "       1.22505619e+14, 2.57225832e+13, 4.79594775e+13, 5.09833673e+13,\n",
       "       5.02427695e+13, 5.32588726e+13, 1.05393403e+14, 1.06172720e+14,\n",
       "       2.59607352e+13, 2.18117019e+13, 1.75332820e+13, 4.44135566e+13,\n",
       "       3.25790344e+13, 5.31565353e+13, 1.08279491e+14, 2.43142773e+13,\n",
       "       2.39750593e+13, 2.63482199e+13, 1.85245334e+13, 1.41383237e+14,\n",
       "       4.70925806e+13, 1.06165108e+14, 7.58045616e+13, 1.29289081e+14,\n",
       "       4.43161265e+13, 4.97512665e+13, 1.71880378e+13, 3.88634637e+13,\n",
       "       1.04620436e+14, 4.32058778e+13, 1.34686053e+14, 2.43402630e+13,\n",
       "       2.52525226e+13, 3.92161710e+13])"
      ]
     },
     "execution_count": 17,
     "metadata": {},
     "output_type": "execute_result"
    }
   ],
   "source": [
    "estimator.predict(x_test)"
   ]
  },
  {
   "cell_type": "code",
   "execution_count": 19,
   "id": "63c0693a-7f14-489f-828a-b31e4891f94b",
   "metadata": {},
   "outputs": [
    {
     "data": {
      "text/plain": [
       "-6.15114870138916e+25"
      ]
     },
     "execution_count": 19,
     "metadata": {},
     "output_type": "execute_result"
    }
   ],
   "source": [
    "from sklearn.metrics import r2_score\n",
    "r2_score(y_test, estimator.predict(x_test))"
   ]
  },
  {
   "cell_type": "code",
   "execution_count": null,
   "id": "33e2b66f-cf82-4e15-a21f-de892b385267",
   "metadata": {},
   "outputs": [],
   "source": []
  },
  {
   "cell_type": "code",
   "execution_count": null,
   "id": "04fc55b9-26f4-49a6-a38d-10c86192410e",
   "metadata": {},
   "outputs": [],
   "source": []
  }
 ],
 "metadata": {
  "kernelspec": {
   "display_name": "torch1.12",
   "language": "python",
   "name": "torch1.12"
  },
  "language_info": {
   "codemirror_mode": {
    "name": "ipython",
    "version": 3
   },
   "file_extension": ".py",
   "mimetype": "text/x-python",
   "name": "python",
   "nbconvert_exporter": "python",
   "pygments_lexer": "ipython3",
   "version": "3.10.6"
  }
 },
 "nbformat": 4,
 "nbformat_minor": 5
}

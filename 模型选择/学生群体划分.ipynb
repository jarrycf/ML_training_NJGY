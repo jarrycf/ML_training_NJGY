{
 "cells": [
  {
   "cell_type": "code",
   "execution_count": 62,
   "id": "214d1d4b-4ff3-475e-8d22-0a807b0e4c71",
   "metadata": {},
   "outputs": [
    {
     "name": "stdout",
     "output_type": "stream",
     "text": [
      "100个数据的分类结果为\n",
      "[3 2 2 3 0 2 3 0 3 2 2 0 0 1 3 1 3 3 1 2 2 0 0 2 3 0 1 0 2 2 2 2 1 0 3 2 0\n",
      " 3 3 0 3 0 0 2 2 1 3 3 0 1 0 2 1 2 3 1 3 3 3 2 0 1 0 2 0 0 2 0 0 0 0 2 1 3\n",
      " 3 1 1 0 2 1 3 0 2 1 2 2 3 0 0 1 0 1 3 3 2 1 2 1 1 2]\n",
      "聚类的轮廓系数为:0.4285623867552076\n"
     ]
    }
   ],
   "source": [
    "#代码\n",
    "import pandas as pd\n",
    "from sklearn.decomposition import PCA\n",
    "from sklearn.cluster import KMeans\n",
    "from sklearn.metrics import silhouette_score\n",
    "\n",
    "# 1. 读取数据\n",
    "data = pd.read_csv('./data/Score_train.csv')\n",
    "\n",
    "# 2. 数据预处理：pca降维\n",
    "transfer = PCA(n_components=0.95)\n",
    "data_new = transfer.fit_transform(data)\n",
    "\n",
    "# 3. 选择模型\n",
    "estimator = KMeans(n_clusters = 4)\n",
    "\n",
    "# 4. 模型训练\n",
    "estimator.fit(data_new)\n",
    "\n",
    "# 5. 模型评估\n",
    "y_predict = estimator.predict(data_new)\n",
    "y_predict[:100]\n",
    "print('100个数据的聚类结果为\\n{}'.format(y_predict[:100]))\n",
    "print('聚类的轮廓系数为:{}'.format(silhouette_score(data_new, y_predict)))"
   ]
  },
  {
   "cell_type": "code",
   "execution_count": 3,
   "id": "34c36358-0648-43da-8158-8971f94afd40",
   "metadata": {},
   "outputs": [
    {
     "data": {
      "text/plain": [
       "0.4285623867552076"
      ]
     },
     "execution_count": 3,
     "metadata": {},
     "output_type": "execute_result"
    }
   ],
   "source": [
    "#代码\n",
    "import pandas as pd\n",
    "from sklearn.decomposition import PCA\n",
    "from sklearn.cluster import KMeans\n",
    "from sklearn.metrics import silhouette_score\n",
    "\n",
    "# 1. 读取数据\n",
    "data = pd.read_csv('./data/Score_train.csv')\n",
    "\n",
    "# 2. 数据预处理：pca降维\n",
    "# transfer = PCA(n_components=0.95)\n",
    "# data_new = transfer.fit_transform(data)\n",
    "\n",
    "# 3. 选择模型\n",
    "estimator = KMeans(n_clusters = 4)\n",
    "\n",
    "# 4. 模型训练\n",
    "# estimator.fit(data_new)\n",
    "estimator.fit(data)\n",
    "\n",
    "# 5. 模型评估\n",
    "y_predict = estimator.predict(data)\n",
    "y_predict[:300]\n",
    "silhouette_score(data, y_predict)"
   ]
  },
  {
   "cell_type": "code",
   "execution_count": 28,
   "id": "aa958bfc-42eb-4524-b9f2-ef8865bd2506",
   "metadata": {},
   "outputs": [
    {
     "name": "stdout",
     "output_type": "stream",
     "text": [
      "Computing embedding\n"
     ]
    },
    {
     "ename": "NameError",
     "evalue": "name 'manifold' is not defined",
     "output_type": "error",
     "traceback": [
      "\u001b[0;31m---------------------------------------------------------------------------\u001b[0m",
      "\u001b[0;31mNameError\u001b[0m                                 Traceback (most recent call last)",
      "Input \u001b[0;32mIn [28]\u001b[0m, in \u001b[0;36m<cell line: 18>\u001b[0;34m()\u001b[0m\n\u001b[1;32m     16\u001b[0m     plt\u001b[38;5;241m.\u001b[39mtight_layout(rect\u001b[38;5;241m=\u001b[39m[\u001b[38;5;241m0\u001b[39m, \u001b[38;5;241m0.03\u001b[39m, \u001b[38;5;241m1\u001b[39m, \u001b[38;5;241m0.95\u001b[39m])\n\u001b[1;32m     17\u001b[0m \u001b[38;5;28mprint\u001b[39m(\u001b[38;5;124m\"\u001b[39m\u001b[38;5;124mComputing embedding\u001b[39m\u001b[38;5;124m\"\u001b[39m)\n\u001b[0;32m---> 18\u001b[0m X_red \u001b[38;5;241m=\u001b[39m \u001b[43mmanifold\u001b[49m\u001b[38;5;241m.\u001b[39mSpectralEmbedding(n_components\u001b[38;5;241m=\u001b[39m\u001b[38;5;241m2\u001b[39m)\u001b[38;5;241m.\u001b[39mfit_transform(X)\n\u001b[1;32m     19\u001b[0m \u001b[38;5;28mprint\u001b[39m(\u001b[38;5;124m\"\u001b[39m\u001b[38;5;124mDone.\u001b[39m\u001b[38;5;124m\"\u001b[39m)\n",
      "\u001b[0;31mNameError\u001b[0m: name 'manifold' is not defined"
     ]
    }
   ],
   "source": [
    "def plot_clustering(X_red, labels, title=None):\n",
    "    x_min, x_max = np.min(X_red, axis=0), np.max(X_red, axis=0)\n",
    "    X_red = (X_red - x_min) / (x_max - x_min)\n",
    "\n",
    "    plt.figure(figsize=(6, 4))\n",
    "    for i in range(X_red.shape[0]):\n",
    "        plt.text(X_red[i, 0], X_red[i, 1], str(y[i]),\n",
    "                 color=plt.cm.nipy_spectral(labels[i] / 10.),  #设置数字颜色\n",
    "                 fontdict={'weight': 'bold', 'size': 9})       #设置数字大小\n",
    "\n",
    "    plt.xticks([])\n",
    "    plt.yticks([])\n",
    "    if title is not None:\n",
    "        plt.title(title, size=17)\n",
    "    plt.axis('off')\n",
    "    plt.tight_layout(rect=[0, 0.03, 1, 0.95])\n",
    "print(\"Computing embedding\")\n",
    "X_red = manifold.SpectralEmbedding(n_components=2).fit_transform(X)\n",
    "print(\"Done.\")"
   ]
  },
  {
   "cell_type": "code",
   "execution_count": 65,
   "id": "5e1c5792-9829-4b23-847f-1f25ec43114d",
   "metadata": {},
   "outputs": [
    {
     "name": "stdout",
     "output_type": "stream",
     "text": [
      "100个数据的层次聚类结果为\n",
      "[2 0 0 2 1 0 2 0 2 0 0 1 1 3 2 3 2 2 3 0 0 1 1 0 2 1 2 1 0 0 0 0 0 1 2 0 1\n",
      " 2 2 1 2 1 1 0 0 3 2 2 1 3 1 0 2 0 2 3 2 2 2 0 1 2 1 0 1 1 0 2 1 1 1 0 3 2\n",
      " 2 0 3 1 0 3 2 1 0 3 0 0 2 1 1 3 1 3 2 2 0 3 0 2 2 0]\n",
      "层级聚类的轮廓系数为：0.4046288500799238\n"
     ]
    },
    {
     "data": {
      "text/html": [
       "<style>#sk-container-id-3 {color: black;background-color: white;}#sk-container-id-3 pre{padding: 0;}#sk-container-id-3 div.sk-toggleable {background-color: white;}#sk-container-id-3 label.sk-toggleable__label {cursor: pointer;display: block;width: 100%;margin-bottom: 0;padding: 0.3em;box-sizing: border-box;text-align: center;}#sk-container-id-3 label.sk-toggleable__label-arrow:before {content: \"▸\";float: left;margin-right: 0.25em;color: #696969;}#sk-container-id-3 label.sk-toggleable__label-arrow:hover:before {color: black;}#sk-container-id-3 div.sk-estimator:hover label.sk-toggleable__label-arrow:before {color: black;}#sk-container-id-3 div.sk-toggleable__content {max-height: 0;max-width: 0;overflow: hidden;text-align: left;background-color: #f0f8ff;}#sk-container-id-3 div.sk-toggleable__content pre {margin: 0.2em;color: black;border-radius: 0.25em;background-color: #f0f8ff;}#sk-container-id-3 input.sk-toggleable__control:checked~div.sk-toggleable__content {max-height: 200px;max-width: 100%;overflow: auto;}#sk-container-id-3 input.sk-toggleable__control:checked~label.sk-toggleable__label-arrow:before {content: \"▾\";}#sk-container-id-3 div.sk-estimator input.sk-toggleable__control:checked~label.sk-toggleable__label {background-color: #d4ebff;}#sk-container-id-3 div.sk-label input.sk-toggleable__control:checked~label.sk-toggleable__label {background-color: #d4ebff;}#sk-container-id-3 input.sk-hidden--visually {border: 0;clip: rect(1px 1px 1px 1px);clip: rect(1px, 1px, 1px, 1px);height: 1px;margin: -1px;overflow: hidden;padding: 0;position: absolute;width: 1px;}#sk-container-id-3 div.sk-estimator {font-family: monospace;background-color: #f0f8ff;border: 1px dotted black;border-radius: 0.25em;box-sizing: border-box;margin-bottom: 0.5em;}#sk-container-id-3 div.sk-estimator:hover {background-color: #d4ebff;}#sk-container-id-3 div.sk-parallel-item::after {content: \"\";width: 100%;border-bottom: 1px solid gray;flex-grow: 1;}#sk-container-id-3 div.sk-label:hover label.sk-toggleable__label {background-color: #d4ebff;}#sk-container-id-3 div.sk-serial::before {content: \"\";position: absolute;border-left: 1px solid gray;box-sizing: border-box;top: 0;bottom: 0;left: 50%;z-index: 0;}#sk-container-id-3 div.sk-serial {display: flex;flex-direction: column;align-items: center;background-color: white;padding-right: 0.2em;padding-left: 0.2em;position: relative;}#sk-container-id-3 div.sk-item {position: relative;z-index: 1;}#sk-container-id-3 div.sk-parallel {display: flex;align-items: stretch;justify-content: center;background-color: white;position: relative;}#sk-container-id-3 div.sk-item::before, #sk-container-id-3 div.sk-parallel-item::before {content: \"\";position: absolute;border-left: 1px solid gray;box-sizing: border-box;top: 0;bottom: 0;left: 50%;z-index: -1;}#sk-container-id-3 div.sk-parallel-item {display: flex;flex-direction: column;z-index: 1;position: relative;background-color: white;}#sk-container-id-3 div.sk-parallel-item:first-child::after {align-self: flex-end;width: 50%;}#sk-container-id-3 div.sk-parallel-item:last-child::after {align-self: flex-start;width: 50%;}#sk-container-id-3 div.sk-parallel-item:only-child::after {width: 0;}#sk-container-id-3 div.sk-dashed-wrapped {border: 1px dashed gray;margin: 0 0.4em 0.5em 0.4em;box-sizing: border-box;padding-bottom: 0.4em;background-color: white;}#sk-container-id-3 div.sk-label label {font-family: monospace;font-weight: bold;display: inline-block;line-height: 1.2em;}#sk-container-id-3 div.sk-label-container {text-align: center;}#sk-container-id-3 div.sk-container {/* jupyter's `normalize.less` sets `[hidden] { display: none; }` but bootstrap.min.css set `[hidden] { display: none !important; }` so we also need the `!important` here to be able to override the default hidden behavior on the sphinx rendered scikit-learn.org. See: https://github.com/scikit-learn/scikit-learn/issues/21755 */display: inline-block !important;position: relative;}#sk-container-id-3 div.sk-text-repr-fallback {display: none;}</style><div id=\"sk-container-id-3\" class=\"sk-top-container\"><div class=\"sk-text-repr-fallback\"><pre>SVC()</pre><b>In a Jupyter environment, please rerun this cell to show the HTML representation or trust the notebook. <br />On GitHub, the HTML representation is unable to render, please try loading this page with nbviewer.org.</b></div><div class=\"sk-container\" hidden><div class=\"sk-item\"><div class=\"sk-estimator sk-toggleable\"><input class=\"sk-toggleable__control sk-hidden--visually\" id=\"sk-estimator-id-3\" type=\"checkbox\" checked><label for=\"sk-estimator-id-3\" class=\"sk-toggleable__label sk-toggleable__label-arrow\">SVC</label><div class=\"sk-toggleable__content\"><pre>SVC()</pre></div></div></div></div></div>"
      ],
      "text/plain": [
       "SVC()"
      ]
     },
     "execution_count": 65,
     "metadata": {},
     "output_type": "execute_result"
    }
   ],
   "source": [
    "from sklearn.cluster import AgglomerativeClustering \n",
    "from sklearn import svm\n",
    "# 1. 读取数据\n",
    "data = pd.read_csv('./data/Score_train.csv')\n",
    "\n",
    "# 3. 选择模型\n",
    "estimator = AgglomerativeClustering(n_clusters=4, affinity='euclidean', linkage='ward')\n",
    "estimator.fit(data)\n",
    "print('100个数据的层次聚类结果为\\n{}'.format(estimator.labels_))\n",
    "print('层级聚类的轮廓系数为：{}'.format(silhouette_score(data, estimator.labels_)))\n",
    "\n",
    "# 构建支持向量机模型，并对聚类结果进行建模\n",
    "clf = svm.SVC()\n",
    "clf.fit(data, estimator.labels_)\n",
    "\n"
   ]
  },
  {
   "cell_type": "code",
   "execution_count": 49,
   "id": "8e1e7d3d-6cf9-4986-a705-6542d23f08d1",
   "metadata": {},
   "outputs": [
    {
     "data": {
      "text/plain": [
       "array([2, 0, 0, 2, 1, 0, 2, 0, 2, 0, 0, 1, 1, 3, 2, 3, 2, 2, 3, 0, 0, 1,\n",
       "       1, 0, 2, 1, 2, 1, 0, 0, 0, 0, 0, 1, 2, 0, 1, 2, 2, 1, 2, 1, 1, 0,\n",
       "       0, 3, 2, 2, 1, 3, 1, 0, 2, 0, 2, 3, 2, 2, 2, 0, 1, 2, 1, 0, 1, 1,\n",
       "       0, 2, 1, 1, 1, 0, 3, 2, 2, 0, 3, 1, 0, 3, 2, 1, 0, 3, 0, 0, 2, 1,\n",
       "       1, 3, 1, 3, 2, 2, 0, 3, 0, 2, 2, 0])"
      ]
     },
     "execution_count": 49,
     "metadata": {},
     "output_type": "execute_result"
    }
   ],
   "source": [
    "from sklearn.cluster import AgglomerativeClustering \n",
    "from sklearn import svm\n",
    "# 1. 读取数据\n",
    "data = pd.read_csv('./data/Score_train.csv')\n",
    "\n",
    "# 3. 选择模型\n",
    "estimator = AgglomerativeClustering(n_clusters=4, affinity='euclidean', linkage='ward')\n",
    "estimator.fit(data)\n",
    "estimator.labels_"
   ]
  },
  {
   "cell_type": "code",
   "execution_count": 60,
   "id": "0152ac25-c36f-4b17-b187-56bcc80ba997",
   "metadata": {},
   "outputs": [
    {
     "data": {
      "image/png": "[encoded data removed]",
      "text/plain": [
       "<Figure size 432x288 with 1 Axes>"
      ]
     },
     "metadata": {
      "needs_background": "light"
     },
     "output_type": "display_data"
    }
   ],
   "source": [
    "import matplotlib.pyplot as plt\n",
    "\n",
    "# 使用散点图可视化聚类结果\n",
    "plt.scatter(data['Chinese'], estimator.labels_)\n",
    "plt.show()"
   ]
  },
  {
   "cell_type": "code",
   "execution_count": 58,
   "id": "12e4583c-f480-4772-b678-474b2b2dbfdc",
   "metadata": {},
   "outputs": [
    {
     "data": {
      "text/html": [
       "<div>\n",
       "<style scoped>\n",
       "    .dataframe tbody tr th:only-of-type {\n",
       "        vertical-align: middle;\n",
       "    }\n",
       "\n",
       "    .dataframe tbody tr th {\n",
       "        vertical-align: top;\n",
       "    }\n",
       "\n",
       "    .dataframe thead th {\n",
       "        text-align: right;\n",
       "    }\n",
       "</style>\n",
       "<table border=\"1\" class=\"dataframe\">\n",
       "  <thead>\n",
       "    <tr style=\"text-align: right;\">\n",
       "      <th></th>\n",
       "      <th>Chinese</th>\n",
       "      <th>Math</th>\n",
       "    </tr>\n",
       "  </thead>\n",
       "  <tbody>\n",
       "    <tr>\n",
       "      <th>0</th>\n",
       "      <td>78</td>\n",
       "      <td>67</td>\n",
       "    </tr>\n",
       "    <tr>\n",
       "      <th>1</th>\n",
       "      <td>100</td>\n",
       "      <td>78</td>\n",
       "    </tr>\n",
       "    <tr>\n",
       "      <th>2</th>\n",
       "      <td>99</td>\n",
       "      <td>82</td>\n",
       "    </tr>\n",
       "    <tr>\n",
       "      <th>3</th>\n",
       "      <td>79</td>\n",
       "      <td>67</td>\n",
       "    </tr>\n",
       "    <tr>\n",
       "      <th>4</th>\n",
       "      <td>67</td>\n",
       "      <td>87</td>\n",
       "    </tr>\n",
       "    <tr>\n",
       "      <th>...</th>\n",
       "      <td>...</td>\n",
       "      <td>...</td>\n",
       "    </tr>\n",
       "    <tr>\n",
       "      <th>95</th>\n",
       "      <td>91</td>\n",
       "      <td>61</td>\n",
       "    </tr>\n",
       "    <tr>\n",
       "      <th>96</th>\n",
       "      <td>82</td>\n",
       "      <td>91</td>\n",
       "    </tr>\n",
       "    <tr>\n",
       "      <th>97</th>\n",
       "      <td>83</td>\n",
       "      <td>75</td>\n",
       "    </tr>\n",
       "    <tr>\n",
       "      <th>98</th>\n",
       "      <td>82</td>\n",
       "      <td>59</td>\n",
       "    </tr>\n",
       "    <tr>\n",
       "      <th>99</th>\n",
       "      <td>100</td>\n",
       "      <td>79</td>\n",
       "    </tr>\n",
       "  </tbody>\n",
       "</table>\n",
       "<p>100 rows × 2 columns</p>\n",
       "</div>"
      ],
      "text/plain": [
       "    Chinese  Math\n",
       "0        78    67\n",
       "1       100    78\n",
       "2        99    82\n",
       "3        79    67\n",
       "4        67    87\n",
       "..      ...   ...\n",
       "95       91    61\n",
       "96       82    91\n",
       "97       83    75\n",
       "98       82    59\n",
       "99      100    79\n",
       "\n",
       "[100 rows x 2 columns]"
      ]
     },
     "execution_count": 58,
     "metadata": {},
     "output_type": "execute_result"
    }
   ],
   "source": [
    "import matplotlib.pyplot as plt\n",
    "data = pd.read_csv('./data/Score_train.csv')\n",
    "data"
   ]
  },
  {
   "cell_type": "code",
   "execution_count": 11,
   "id": "3e35c28b-4f14-4914-94be-32676c42e17e",
   "metadata": {},
   "outputs": [
    {
     "data": {
      "image/png": "[encoded data removed]",
      "text/plain": [
       "<Figure size 1950x900 with 1 Axes>"
      ]
     },
     "metadata": {
      "needs_background": "light"
     },
     "output_type": "display_data"
    }
   ],
   "source": [
    "from sklearn.datasets import load_iris\n",
    "from scipy.cluster.hierarchy import linkage, dendrogram   #导入层次聚类方法\n",
    "import numpy as np   \n",
    "import matplotlib.pyplot as plt\n",
    "\n",
    "plt.rcParams[\"font.family\"] = 'Arial Unicode MS'\n",
    "plt.rcParams['figure.figsize']=(6.0, 4.0)\n",
    "plt.rcParams['savefig.dpi']= 150 #图片像素\n",
    "plt.rcParams['figure.dpi']= 150 #分辦率\n",
    "\n",
    "data = pd.read_csv('./data/Score_train.csv')\n",
    "data = data.iloc[:20,:]\n",
    "data = np.array(data)\n",
    "plt.figure(figsize=(13,6))  \n",
    "Z = linkage(data, method='ward', metric='euclidean') #调用层次聚类方法（默认是凝聚型层次聚类），欧式距离和Ward距离 \n",
    "p = dendrogram(Z, 0)     #样本拟合\n",
    "plt.title(\"层次聚类结果\")\n",
    "plt.show()               #画图"
   ]
  },
  {
   "cell_type": "code",
   "execution_count": null,
   "id": "da010c47-895f-48ec-9c93-dc097ced05c9",
   "metadata": {},
   "outputs": [],
   "source": [
    "from sklearn.cluster import AgglomerativeClustering\n",
    "\n",
    "# 构建层次聚类模型，并指定参数\n",
    "model = AgglomerativeClustering(n_clusters=3, affinity='euclidean', linkage='ward')\n",
    "\n",
    "# 对数据进行层次聚类\n",
    "model.fit(X)\n"
   ]
  }
 ],
 "metadata": {
  "kernelspec": {
   "display_name": "torch1.12",
   "language": "python",
   "name": "torch1.12"
  },
  "language_info": {
   "codemirror_mode": {
    "name": "ipython",
    "version": 3
   },
   "file_extension": ".py",
   "mimetype": "text/x-python",
   "name": "python",
   "nbconvert_exporter": "python",
   "pygments_lexer": "ipython3",
   "version": "3.10.6"
  }
 },
 "nbformat": 4,
 "nbformat_minor": 5
}
